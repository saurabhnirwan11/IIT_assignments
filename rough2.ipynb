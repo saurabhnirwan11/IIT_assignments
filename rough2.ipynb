{
 "cells": [
  {
   "cell_type": "code",
   "execution_count": 18,
   "metadata": {},
   "outputs": [
    {
     "data": {
      "text/html": [
       "<div>\n",
       "<style scoped>\n",
       "    .dataframe tbody tr th:only-of-type {\n",
       "        vertical-align: middle;\n",
       "    }\n",
       "\n",
       "    .dataframe tbody tr th {\n",
       "        vertical-align: top;\n",
       "    }\n",
       "\n",
       "    .dataframe thead th {\n",
       "        text-align: right;\n",
       "    }\n",
       "</style>\n",
       "<table border=\"1\" class=\"dataframe\">\n",
       "  <thead>\n",
       "    <tr style=\"text-align: right;\">\n",
       "      <th></th>\n",
       "      <th>l</th>\n",
       "      <th>t</th>\n",
       "    </tr>\n",
       "  </thead>\n",
       "  <tbody>\n",
       "    <tr>\n",
       "      <th>85</th>\n",
       "      <td>0.95</td>\n",
       "      <td>1.98</td>\n",
       "    </tr>\n",
       "    <tr>\n",
       "      <th>86</th>\n",
       "      <td>0.96</td>\n",
       "      <td>2.01</td>\n",
       "    </tr>\n",
       "    <tr>\n",
       "      <th>87</th>\n",
       "      <td>0.97</td>\n",
       "      <td>2.05</td>\n",
       "    </tr>\n",
       "    <tr>\n",
       "      <th>88</th>\n",
       "      <td>0.98</td>\n",
       "      <td>2.05</td>\n",
       "    </tr>\n",
       "    <tr>\n",
       "      <th>89</th>\n",
       "      <td>0.99</td>\n",
       "      <td>2.02</td>\n",
       "    </tr>\n",
       "  </tbody>\n",
       "</table>\n",
       "</div>"
      ],
      "text/plain": [
       "       l     t\n",
       "85  0.95  1.98\n",
       "86  0.96  2.01\n",
       "87  0.97  2.05\n",
       "88  0.98  2.05\n",
       "89  0.99  2.02"
      ]
     },
     "execution_count": 18,
     "metadata": {},
     "output_type": "execute_result"
    }
   ],
   "source": [
    "import pandas as pd\n",
    "df = pd.read_csv(\"SIMPLEPENDULUMOSCILLATIONDATA.csv\")\n",
    "df.tail()"
   ]
  },
  {
   "cell_type": "code",
   "execution_count": 7,
   "metadata": {},
   "outputs": [],
   "source": [
    "# Get the length and time period values from the dataset\n",
    "l = df['l'].values\n",
    "t = df['t'].values\n",
    "# Get the square of time period\n",
    "tsq = t * t"
   ]
  },
  {
   "cell_type": "code",
   "execution_count": 10,
   "metadata": {},
   "outputs": [
    {
     "name": "stdout",
     "output_type": "stream",
     "text": [
      "[0.4761   0.483025 0.552049 0.568516 0.698896 0.753424 0.708964 0.729316\n",
      " 0.736164 0.781456 0.81     0.968256 1.0404   1.1236   0.982081 1.0201\n",
      " 1.1449   1.1881   1.2996   1.21     1.4161   1.2996   1.4884   1.5376\n",
      " 1.4641   1.6129   1.69     1.7161   1.6129   1.5876   1.69     1.7161\n",
      " 1.8225   1.8225   1.96     1.9321   1.9044   2.1025   2.0164   2.1609\n",
      " 2.1609   2.0736   2.3104   2.25     2.1904   2.3409   2.3409   2.3716\n",
      " 2.5921   2.6896   2.4964   2.7556   2.56     2.7556   2.6569   2.9241\n",
      " 2.7889   2.7556   2.89     2.9241   3.1329   3.0976   2.9929   3.2761\n",
      " 3.2041   3.0276   3.3856   3.3124   3.2041   3.24     3.3489   3.4596\n",
      " 3.4596   3.3856   3.4596   3.5721   3.8416   3.61     3.6864   3.7636\n",
      " 3.7636   3.8809   3.7636   3.8416   4.       3.9204   4.0401   4.2025\n",
      " 4.2025   4.0804  ]\n"
     ]
    }
   ],
   "source": [
    "print(tsq)"
   ]
  },
  {
   "cell_type": "code",
   "execution_count": 9,
   "metadata": {},
   "outputs": [
    {
     "name": "stdout",
     "output_type": "stream",
     "text": [
      "[0.69  0.695 0.743 0.754 0.836 0.868 0.842 0.854 0.858 0.884 0.9   0.984\n",
      " 1.02  1.06  0.991 1.01  1.07  1.09  1.14  1.1   1.19  1.14  1.22  1.24\n",
      " 1.21  1.27  1.3   1.31  1.27  1.26  1.3   1.31  1.35  1.35  1.4   1.39\n",
      " 1.38  1.45  1.42  1.47  1.47  1.44  1.52  1.5   1.48  1.53  1.53  1.54\n",
      " 1.61  1.64  1.58  1.66  1.6   1.66  1.63  1.71  1.67  1.66  1.7   1.71\n",
      " 1.77  1.76  1.73  1.81  1.79  1.74  1.84  1.82  1.79  1.8   1.83  1.86\n",
      " 1.86  1.84  1.86  1.89  1.96  1.9   1.92  1.94  1.94  1.97  1.94  1.96\n",
      " 2.    1.98  2.01  2.05  2.05  2.02 ]\n"
     ]
    }
   ],
   "source": [
    "print(t)"
   ]
  },
  {
   "cell_type": "code",
   "execution_count": 8,
   "metadata": {},
   "outputs": [
    {
     "name": "stdout",
     "output_type": "stream",
     "text": [
      "[0.1  0.11 0.12 0.13 0.14 0.15 0.16 0.17 0.18 0.19 0.2  0.21 0.22 0.23\n",
      " 0.24 0.25 0.26 0.27 0.28 0.29 0.3  0.31 0.32 0.33 0.34 0.35 0.36 0.37\n",
      " 0.38 0.39 0.4  0.41 0.42 0.43 0.44 0.45 0.46 0.47 0.48 0.49 0.5  0.51\n",
      " 0.52 0.53 0.54 0.55 0.56 0.57 0.58 0.59 0.6  0.61 0.62 0.63 0.64 0.65\n",
      " 0.66 0.67 0.68 0.69 0.7  0.71 0.72 0.73 0.74 0.75 0.76 0.77 0.78 0.79\n",
      " 0.8  0.81 0.82 0.83 0.84 0.85 0.86 0.87 0.88 0.89 0.9  0.91 0.92 0.93\n",
      " 0.94 0.95 0.96 0.97 0.98 0.99]\n"
     ]
    }
   ],
   "source": [
    "print(l)"
   ]
  },
  {
   "cell_type": "code",
   "execution_count": 13,
   "metadata": {},
   "outputs": [
    {
     "data": {
      "text/plain": [
       "numpy.ndarray"
      ]
     },
     "execution_count": 13,
     "metadata": {},
     "output_type": "execute_result"
    }
   ],
   "source": [
    "type(tsq)"
   ]
  },
  {
   "cell_type": "code",
   "execution_count": 14,
   "metadata": {},
   "outputs": [
    {
     "data": {
      "text/plain": [
       "90"
      ]
     },
     "execution_count": 14,
     "metadata": {},
     "output_type": "execute_result"
    }
   ],
   "source": [
    "len(tsq)"
   ]
  },
  {
   "cell_type": "code",
   "execution_count": 15,
   "metadata": {},
   "outputs": [
    {
     "data": {
      "text/plain": [
       "90"
      ]
     },
     "execution_count": 15,
     "metadata": {},
     "output_type": "execute_result"
    }
   ],
   "source": [
    "len(l)"
   ]
  },
  {
   "cell_type": "code",
   "execution_count": 17,
   "metadata": {},
   "outputs": [
    {
     "name": "stdout",
     "output_type": "stream",
     "text": [
      "[ 0  1  2  3  4  5  6  7  8  9 10 11 12 13 14 15 16 17 18 19 20 21 22 23\n",
      " 24 25 26 27 28 29 30 31 32 33 34 35 36 37 38 39 40 41 42 43 44 45 46 47\n",
      " 48 49 50 51 52 53 54 55 56 57 58 59 60 61 62 63 64 65 66 67 68 69 70 71\n",
      " 72 73 74 75 76 77 78 79 80 81 82 83 84 85 86 87 88 89]\n"
     ]
    }
   ],
   "source": [
    "import numpy as np\n",
    "random_idx = np.arange(len(tsq))\n",
    "print(random_idx)"
   ]
  },
  {
   "cell_type": "code",
   "execution_count": 22,
   "metadata": {},
   "outputs": [],
   "source": [
    "np.random.shuffle(random_idx)\n",
    "lst = []\n",
    "for idx in random_idx:\n",
    "    lst.append(idx)"
   ]
  },
  {
   "cell_type": "code",
   "execution_count": 27,
   "metadata": {},
   "outputs": [],
   "source": [
    "for i in random_idx:\n",
    "    if i not in lst:\n",
    "        print(\"yes\")"
   ]
  },
  {
   "cell_type": "code",
   "execution_count": 31,
   "metadata": {},
   "outputs": [
    {
     "name": "stdout",
     "output_type": "stream",
     "text": [
      "82\n"
     ]
    }
   ],
   "source": [
    "import random\n",
    "randm_idx = random.randint(0,len(tsq)-1)\n",
    "print(randm_idx)"
   ]
  },
  {
   "cell_type": "code",
   "execution_count": null,
   "metadata": {},
   "outputs": [],
   "source": []
  },
  {
   "cell_type": "code",
   "execution_count": null,
   "metadata": {},
   "outputs": [],
   "source": []
  }
 ],
 "metadata": {
  "interpreter": {
   "hash": "02cc3ba8b6c3c87e71a496d0bcc3df80b41bd4d59e0e1412680746b4b5735bb3"
  },
  "kernelspec": {
   "display_name": "Python 3.8.5 64-bit ('py_385': venv)",
   "language": "python",
   "name": "python3"
  },
  "language_info": {
   "codemirror_mode": {
    "name": "ipython",
    "version": 3
   },
   "file_extension": ".py",
   "mimetype": "text/x-python",
   "name": "python",
   "nbconvert_exporter": "python",
   "pygments_lexer": "ipython3",
   "version": "3.8.5"
  },
  "orig_nbformat": 4
 },
 "nbformat": 4,
 "nbformat_minor": 2
}
