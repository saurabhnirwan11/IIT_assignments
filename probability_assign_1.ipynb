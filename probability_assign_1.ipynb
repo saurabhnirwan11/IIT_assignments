{
 "cells": [
  {
   "cell_type": "code",
   "execution_count": 2,
   "metadata": {},
   "outputs": [
    {
     "name": "stdout",
     "output_type": "stream",
     "text": [
      "range(1, 101)\n"
     ]
    }
   ],
   "source": [
    "n = range(1,101)\n",
    "print(n)"
   ]
  },
  {
   "cell_type": "code",
   "execution_count": 3,
   "metadata": {},
   "outputs": [
    {
     "name": "stdout",
     "output_type": "stream",
     "text": [
      "75\n",
      "50\n",
      "100\n"
     ]
    }
   ],
   "source": [
    "odd_no = 0\n",
    "total_no = 0\n",
    "second = 0\n",
    "for i in range(1,101):\n",
    "    total_no += 1 \n",
    "    if i%2 != 0 :\n",
    "        odd_no += 1\n",
    "    if i>25:\n",
    "        second+=1\n",
    "print(second)\n",
    "print(odd_no)\n",
    "print(total_no)"
   ]
  },
  {
   "cell_type": "code",
   "execution_count": 4,
   "metadata": {},
   "outputs": [],
   "source": [
    "import random\n",
    "import numpy as np\n",
    "import scipy\n",
    "from itertools import product\n",
    "import seaborn as sns\n",
    "import pandas as pd\n",
    "import matplotlib.pyplot as plt"
   ]
  },
  {
   "cell_type": "code",
   "execution_count": 5,
   "metadata": {},
   "outputs": [],
   "source": [
    "# Let us define a function for probability which we will use multiple times later.\n",
    "# Here both the variables passed to the function is n(F) and n(S)\n",
    "def find_prob(favourable_outcomes, sample_space):\n",
    "  if sample_space < favourable_outcomes:\n",
    "    print (\"There is a mistake in calculation. Probability <= 1\")\n",
    "    return -1\n",
    "  else:\n",
    "    prob = favourable_outcomes/sample_space\n",
    "    return prob"
   ]
  },
  {
   "cell_type": "code",
   "execution_count": 6,
   "metadata": {},
   "outputs": [
    {
     "name": "stdout",
     "output_type": "stream",
     "text": [
      "Probability of an odd occurance in a dice throw:  0.5\n"
     ]
    }
   ],
   "source": [
    "# Solving Q1 and Q2 by this code snippet. This is to check the correctness of the above function.\n",
    "S = [1, 2, 3, 4, 5, 6]\n",
    "F = [1, 3, 5]\n",
    "prob_odd = find_prob(len(F), len(S))\n",
    "print (\"Probability of an odd occurance in a dice throw: \", prob_odd)"
   ]
  },
  {
   "cell_type": "code",
   "execution_count": 7,
   "metadata": {},
   "outputs": [
    {
     "name": "stdout",
     "output_type": "stream",
     "text": [
      "Probability of getting 4 or 5 in a dice throw:  0.3333333333333333\n"
     ]
    }
   ],
   "source": [
    "# Two desired outcomes from a dice throw.\n",
    "F1 = [4]\n",
    "F2 = [5]\n",
    "prob_f1 = find_prob(len(F1), len(S))\n",
    "prob_f2 = find_prob(len(F2), len(S))\n",
    "prob_f1_f2 = prob_f1 + prob_f2\n",
    "print(\"Probability of getting 4 or 5 in a dice throw: \", prob_f1_f2)"
   ]
  },
  {
   "cell_type": "code",
   "execution_count": 8,
   "metadata": {},
   "outputs": [
    {
     "name": "stdout",
     "output_type": "stream",
     "text": [
      "Probability of getting an even number in first throw and a prime number in second:  0.16666666666666666\n"
     ]
    }
   ],
   "source": [
    "# Code for Q3. \n",
    "S = [1, 2, 3, 4, 5, 6]\n",
    "F_even = [2, 4, 6]\n",
    "F_prime = [3, 5]\n",
    "prob_f_even = find_prob(len(F_even), len(S))\n",
    "prob_f_prime = find_prob(len(F_prime), len(S))\n",
    "prob_f_even_f_prime = prob_f_even * prob_f_prime\n",
    "print(\"Probability of getting an even number in first throw and a prime number in second: \", prob_f_even_f_prime)"
   ]
  },
  {
   "cell_type": "code",
   "execution_count": 9,
   "metadata": {},
   "outputs": [
    {
     "name": "stdout",
     "output_type": "stream",
     "text": [
      "Total number of people in different each range:  {20: 16659, 30: 16659, 40: 16611, 50: 16874, 60: 16693, 70: 16504}\n",
      "Purchases made by people from different age ranges {20: 3351, 30: 5062, 40: 6571, 50: 8552, 60: 10012, 70: 11445}\n",
      "Total purchases made:  44993\n"
     ]
    }
   ],
   "source": [
    "# Fake data generator for a set of 100,000 people. The dictionaries totals and purchases will hold \n",
    "# the data for 100,000 dummy people.\n",
    "totals = {20:0, 30:0, 40:0, 50:0, 60:0, 70:0}\n",
    "purchases = {20:0, 30:0, 40:0, 50:0, 60:0, 70:0}\n",
    "totalPurchases = 0\n",
    "for _ in range(100000):\n",
    "    ageDecade = random.choice([20, 30, 40, 50, 60, 70])\n",
    "    # ageDecade in each loop is just an integer between [20, 30, 40, 50, 60, 70]\n",
    "    # print(\"ageDecade>>>\",type(ageDecade))\n",
    "    purchaseProbability = float(ageDecade) / 100.0\n",
    "    # print(\"purchaseProbability>>>>>\",purchaseProbability)\n",
    "    # only the numerator(ageDecade) changes right Hence the probability associated with young people is less\n",
    "    # and of older people is high\n",
    "    # we are just givng probabilty values to people in certain age group\n",
    "    totals[ageDecade] += 1\n",
    "    # adding person in the dictionary as per the age group\n",
    "    # print(\"totals>>>>>>>\",totals)\n",
    "    # print(random.random())\n",
    "    # random.random()  The random() method returns a random floating number between 0 and 1. [0.0, 1.0)\n",
    "    # purchaseProbability cannot be less than 0\n",
    "    # but still why this line\n",
    "    if (random.random() < purchaseProbability):\n",
    "        totalPurchases += 1\n",
    "        purchases[ageDecade] += 1\n",
    "    # else:\n",
    "    #     print(\"anomly\")\n",
    "\n",
    "print (\"Total number of people in different each range: \", totals)\n",
    "print (\"Purchases made by people from different age ranges\", purchases)\n",
    "print (\"Total purchases made: \", totalPurchases)"
   ]
  },
  {
   "cell_type": "code",
   "execution_count": 10,
   "metadata": {},
   "outputs": [
    {
     "name": "stdout",
     "output_type": "stream",
     "text": [
      "16659\n",
      "5062\n",
      "P(purchase | 30s): 0.3038597754967285\n"
     ]
    }
   ],
   "source": [
    "# First let us solve this directly. purchases[30] has the number \n",
    "# of purchases made by 30 year olds. totals[30] contains the total number of 30 year olds. \n",
    "print(totals[30])\n",
    "print(purchases[30])\n",
    "P_A_B = find_prob(purchases[30], totals[30])\n",
    "print('P(purchase | 30s): ' + str(P_A_B))"
   ]
  },
  {
   "cell_type": "code",
   "execution_count": 11,
   "metadata": {},
   "outputs": [
    {
     "name": "stdout",
     "output_type": "stream",
     "text": [
      "P(B) =  0.16659\n"
     ]
    }
   ],
   "source": [
    "# Now let us try out the formula and see if it maches the above result.\n",
    "# probability of being 30 in the corpus. P(B) = ?\n",
    "P_B = find_prob(totals[30], 100000)\n",
    "print (\"P(B) = \", P_B)"
   ]
  },
  {
   "cell_type": "code",
   "execution_count": 12,
   "metadata": {},
   "outputs": [
    {
     "name": "stdout",
     "output_type": "stream",
     "text": [
      "P(A) =  0.44993\n"
     ]
    }
   ],
   "source": [
    "# probability of making a purchase (regardless of age). P(A) = ?\n",
    "P_A = find_prob(totalPurchases, 100000)\n",
    "print (\"P(A) = \", P_A)"
   ]
  },
  {
   "cell_type": "code",
   "execution_count": 13,
   "metadata": {},
   "outputs": [
    {
     "name": "stdout",
     "output_type": "stream",
     "text": [
      "P(A INT B) =  0.05062\n"
     ]
    }
   ],
   "source": [
    "# What is the probability of both being in your 30's and buying something,\n",
    "# out of the total population - not just the population of people in their 30's. \n",
    "# P(A Intersection B) = ?\n",
    "P_A_INT_B = find_prob(purchases[30], 100000)\n",
    "print (\"P(A INT B) = \", P_A_INT_B)"
   ]
  },
  {
   "cell_type": "code",
   "execution_count": 14,
   "metadata": {},
   "outputs": [
    {
     "name": "stdout",
     "output_type": "stream",
     "text": [
      "P(purchase | 30s) using formula:  0.3038597754967285\n"
     ]
    }
   ],
   "source": [
    "# Therefore, now lets test the formula. P(A|B) = P(A INT B)/P(B)\n",
    "P_A_B_formula = P_A_INT_B / P_B\n",
    "print ('P(purchase | 30s) using formula: ', P_A_B_formula)\n",
    "\n",
    "# PLEASE NOTE THAT THE FORMULA GIVES THE EXACT SAME RESULT AS THE PREVIOUS CELL."
   ]
  },
  {
   "cell_type": "code",
   "execution_count": 15,
   "metadata": {},
   "outputs": [
    {
     "name": "stdout",
     "output_type": "stream",
     "text": [
      "[(1, 1), (2, 2), (3, 3), (4, 4), (5, 5), (6, 6)]\n",
      "dice>>>>>>> range(1, 7)\n",
      "dice_scores>>>>>>>>> {1: 1, 2: 2, 3: 3, 4: 4, 5: 5, 6: 6}\n"
     ]
    }
   ],
   "source": [
    "# Creating a dice.\n",
    "dice = range(1,7)\n",
    "# Creating the combinations for the outcomes of two dices.\n",
    "print(list(zip(range(1,7), range(1, 7))))\n",
    "dice_scores = dict(zip(range(1,7), range(1, 7)))\n",
    "print(\"dice>>>>>>>\",dice)\n",
    "print(\"dice_scores>>>>>>>>>\",dice_scores)"
   ]
  },
  {
   "cell_type": "code",
   "execution_count": 22,
   "metadata": {},
   "outputs": [
    {
     "name": "stdout",
     "output_type": "stream",
     "text": [
      "1 1\n",
      "1 2\n",
      "1 3\n",
      "1 4\n",
      "1 5\n",
      "1 6\n",
      "2 1\n",
      "2 2\n",
      "2 3\n",
      "2 4\n",
      "2 5\n",
      "2 6\n",
      "3 1\n",
      "3 2\n",
      "3 3\n",
      "3 4\n",
      "3 5\n",
      "3 6\n",
      "4 1\n",
      "4 2\n",
      "4 3\n",
      "4 4\n",
      "4 5\n",
      "4 6\n",
      "5 1\n",
      "5 2\n",
      "5 3\n",
      "5 4\n",
      "5 5\n",
      "5 6\n",
      "6 1\n",
      "6 2\n",
      "6 3\n",
      "6 4\n",
      "6 5\n",
      "6 6\n"
     ]
    }
   ],
   "source": [
    "for i,j in product(dice,repeat=2):\n",
    "    print(i,j)"
   ]
  },
  {
   "cell_type": "code",
   "execution_count": 17,
   "metadata": {},
   "outputs": [
    {
     "name": "stdout",
     "output_type": "stream",
     "text": [
      "{(1, 1): 2, (1, 2): 3, (1, 3): 4, (1, 4): 5, (1, 5): 6, (1, 6): 7, (2, 1): 3, (2, 2): 4, (2, 3): 5, (2, 4): 6, (2, 5): 7, (2, 6): 8, (3, 1): 4, (3, 2): 5, (3, 3): 6, (3, 4): 7, (3, 5): 8, (3, 6): 9, (4, 1): 5, (4, 2): 6, (4, 3): 7, (4, 4): 8, (4, 5): 9, (4, 6): 10, (5, 1): 6, (5, 2): 7, (5, 3): 8, (5, 4): 9, (5, 5): 10, (5, 6): 11, (6, 1): 7, (6, 2): 8, (6, 3): 9, (6, 4): 10, (6, 5): 11, (6, 6): 12}\n"
     ]
    }
   ],
   "source": [
    "#  Creating the sample space for this problem. Please uncomment the print statement to check.\n",
    "S = {(i, j): dice_scores[i] + dice_scores[j] for i, j in product(dice, repeat=2)}\n",
    "print (S)"
   ]
  },
  {
   "cell_type": "code",
   "execution_count": 25,
   "metadata": {},
   "outputs": [
    {
     "name": "stdout",
     "output_type": "stream",
     "text": [
      "n_S>>>>>>>>>> 36\n"
     ]
    }
   ],
   "source": [
    "# length of the sample space\n",
    "n_S = len(S)\n",
    "print(\"n_S>>>>>>>>>>\",n_S)"
   ]
  },
  {
   "cell_type": "code",
   "execution_count": 32,
   "metadata": {},
   "outputs": [
    {
     "name": "stdout",
     "output_type": "stream",
     "text": [
      "dict_values([2, 3, 4, 5, 6, 7, 3, 4, 5, 6, 7, 8, 4, 5, 6, 7, 8, 9, 5, 6, 7, 8, 9, 10, 6, 7, 8, 9, 10, 11, 7, 8, 9, 10, 11, 12])\n"
     ]
    }
   ],
   "source": [
    "print(S.values())"
   ]
  },
  {
   "cell_type": "code",
   "execution_count": 33,
   "metadata": {},
   "outputs": [
    {
     "name": "stdout",
     "output_type": "stream",
     "text": [
      "dict_items([((1, 1), 2), ((1, 2), 3), ((1, 3), 4), ((1, 4), 5), ((1, 5), 6), ((1, 6), 7), ((2, 1), 3), ((2, 2), 4), ((2, 3), 5), ((2, 4), 6), ((2, 5), 7), ((2, 6), 8), ((3, 1), 4), ((3, 2), 5), ((3, 3), 6), ((3, 4), 7), ((3, 5), 8), ((3, 6), 9), ((4, 1), 5), ((4, 2), 6), ((4, 3), 7), ((4, 4), 8), ((4, 5), 9), ((4, 6), 10), ((5, 1), 6), ((5, 2), 7), ((5, 3), 8), ((5, 4), 9), ((5, 5), 10), ((5, 6), 11), ((6, 1), 7), ((6, 2), 8), ((6, 3), 9), ((6, 4), 10), ((6, 5), 11), ((6, 6), 12)])\n"
     ]
    }
   ],
   "source": [
    "print(S.items())"
   ]
  },
  {
   "cell_type": "code",
   "execution_count": 27,
   "metadata": {},
   "outputs": [
    {
     "name": "stdout",
     "output_type": "stream",
     "text": [
      "frequencies>>>>>> {2: 0, 3: 0, 4: 0, 5: 0, 6: 0, 7: 0, 8: 0, 9: 0, 10: 0, 11: 0, 12: 0}\n",
      "frequencies>>>>>>>> {2: 1, 3: 2, 4: 3, 5: 4, 6: 5, 7: 6, 8: 5, 9: 4, 10: 3, 11: 2, 12: 1}\n"
     ]
    }
   ],
   "source": [
    "# Collecting all the sums possible in the sample space. (1,2) -> 3, (2,1) -> 3. Therefore freq for 3 is 2.\n",
    "# We get all the possible outcomes and their frequencies using this.\n",
    "# dict.fromkeys(keys, value)\n",
    "# keys\tRequired. An iterable specifying the keys of the new dictionary\n",
    "# value\tOptional. The value for all keys. Default value is None\n",
    "frequencies = dict.fromkeys(S.values(), 0)\n",
    "print(\"frequencies>>>>>>\",frequencies)\n",
    "for sample_outcome, overall_score in S.items():\n",
    "    frequencies[overall_score] += 1\n",
    "print(\"frequencies>>>>>>>>\",frequencies)"
   ]
  },
  {
   "cell_type": "code",
   "execution_count": 36,
   "metadata": {},
   "outputs": [
    {
     "name": "stdout",
     "output_type": "stream",
     "text": [
      "[[2, 0.027777777777777776], [3, 0.05555555555555555], [4, 0.08333333333333333], [5, 0.1111111111111111], [6, 0.1388888888888889], [7, 0.16666666666666666], [8, 0.1388888888888889], [9, 0.1111111111111111], [10, 0.08333333333333333], [11, 0.05555555555555555], [12, 0.027777777777777776]]\n",
      "    Total Score of two dice roles  Probability\n",
      "0                               2     0.027778\n",
      "1                               3     0.055556\n",
      "2                               4     0.083333\n",
      "3                               5     0.111111\n",
      "4                               6     0.138889\n",
      "5                               7     0.166667\n",
      "6                               8     0.138889\n",
      "7                               9     0.111111\n",
      "8                              10     0.083333\n",
      "9                              11     0.055556\n",
      "10                             12     0.027778\n"
     ]
    },
    {
     "data": {
      "image/png": "[encoded data removed]",
      "text/plain": [
       "<Figure size 432x288 with 1 Axes>"
      ]
     },
     "metadata": {
      "needs_background": "light"
     },
     "output_type": "display_data"
    }
   ],
   "source": [
    "# Calculating the probability for each possible outcome by \n",
    "# freq of an outcome/total number of outcome\n",
    "probabilities = pd.DataFrame(data=[[value, frequency / n_S]for value, frequency in frequencies.items()],\n",
    "    columns=['Total Score of two dice roles', 'Probability']\n",
    ")\n",
    "print([[value, frequency / n_S]for value, frequency in frequencies.items()])\n",
    "print(probabilities)\n",
    "# plot PMF as barplot\n",
    "ax = sns.barplot(\n",
    "    x='Total Score of two dice roles',\n",
    "    y='Probability',\n",
    "    data=probabilities,\n",
    ")"
   ]
  },
  {
   "cell_type": "code",
   "execution_count": null,
   "metadata": {},
   "outputs": [],
   "source": [
    "jjb"
   ]
  }
 ],
 "metadata": {
  "interpreter": {
   "hash": "02cc3ba8b6c3c87e71a496d0bcc3df80b41bd4d59e0e1412680746b4b5735bb3"
  },
  "kernelspec": {
   "display_name": "Python 3.8.5 64-bit ('py_385': venv)",
   "language": "python",
   "name": "python3"
  },
  "language_info": {
   "codemirror_mode": {
    "name": "ipython",
    "version": 3
   },
   "file_extension": ".py",
   "mimetype": "text/x-python",
   "name": "python",
   "nbconvert_exporter": "python",
   "pygments_lexer": "ipython3",
   "version": "3.8.5"
  },
  "orig_nbformat": 4
 },
 "nbformat": 4,
 "nbformat_minor": 2
}
